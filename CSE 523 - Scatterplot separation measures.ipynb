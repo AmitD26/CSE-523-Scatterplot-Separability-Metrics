{
 "cells": [
  {
   "cell_type": "code",
   "execution_count": 74,
   "metadata": {},
   "outputs": [],
   "source": [
    "import pandas as pd \n",
    "import numpy as np\n",
    "from sklearn.linear_model import LogisticRegression\n",
    "from sklearn.model_selection import train_test_split\n",
    "from sklearn.metrics import accuracy_score\n",
    "from keras.models import Sequential\n",
    "from keras.layers import Dense\n",
    "from sklearn.svm import SVR\n",
    "from sklearn.decomposition import PCA\n",
    "import matplotlib.pyplot as plt\n",
    "from sklearn.manifold import MDS"
   ]
  },
  {
   "cell_type": "code",
   "execution_count": 4,
   "metadata": {},
   "outputs": [
    {
     "data": {
      "text/html": [
       "<div>\n",
       "<style scoped>\n",
       "    .dataframe tbody tr th:only-of-type {\n",
       "        vertical-align: middle;\n",
       "    }\n",
       "\n",
       "    .dataframe tbody tr th {\n",
       "        vertical-align: top;\n",
       "    }\n",
       "\n",
       "    .dataframe thead th {\n",
       "        text-align: right;\n",
       "    }\n",
       "</style>\n",
       "<table border=\"1\" class=\"dataframe\">\n",
       "  <thead>\n",
       "    <tr style=\"text-align: right;\">\n",
       "      <th></th>\n",
       "      <th>fileName</th>\n",
       "      <th>indexFile</th>\n",
       "      <th>indexDR</th>\n",
       "      <th>classNum</th>\n",
       "      <th>scoreA</th>\n",
       "      <th>scoreM</th>\n",
       "      <th>scoreDes</th>\n",
       "      <th>DSC</th>\n",
       "      <th>CAL</th>\n",
       "      <th>HM</th>\n",
       "      <th>...</th>\n",
       "      <th>DC 20%</th>\n",
       "      <th>HDM 80</th>\n",
       "      <th>DC 2%</th>\n",
       "      <th>DUNN</th>\n",
       "      <th>DC 1%</th>\n",
       "      <th>DC 0.5%</th>\n",
       "      <th>CDM 1</th>\n",
       "      <th>DC 0.2%</th>\n",
       "      <th>DC 0.1%</th>\n",
       "      <th>AWTN</th>\n",
       "    </tr>\n",
       "  </thead>\n",
       "  <tbody>\n",
       "    <tr>\n",
       "      <th>0</th>\n",
       "      <td>Entangled1-3d-3cl-separate_PCA_data.csv</td>\n",
       "      <td>1</td>\n",
       "      <td>1</td>\n",
       "      <td>1</td>\n",
       "      <td>5</td>\n",
       "      <td>4</td>\n",
       "      <td>1</td>\n",
       "      <td>83.946488</td>\n",
       "      <td>168.392790</td>\n",
       "      <td>85.211464</td>\n",
       "      <td>...</td>\n",
       "      <td>56.800376</td>\n",
       "      <td>99.775785</td>\n",
       "      <td>93.433032</td>\n",
       "      <td>0.003952</td>\n",
       "      <td>98.920474</td>\n",
       "      <td>99.934515</td>\n",
       "      <td>88.151433</td>\n",
       "      <td>100.000000</td>\n",
       "      <td>100.0</td>\n",
       "      <td>330.792098</td>\n",
       "    </tr>\n",
       "    <tr>\n",
       "      <th>1</th>\n",
       "      <td>Entangled1-3d-3cl-separate_PCA_data.csv</td>\n",
       "      <td>1</td>\n",
       "      <td>1</td>\n",
       "      <td>2</td>\n",
       "      <td>5</td>\n",
       "      <td>4</td>\n",
       "      <td>1</td>\n",
       "      <td>81.438127</td>\n",
       "      <td>202.032855</td>\n",
       "      <td>83.724674</td>\n",
       "      <td>...</td>\n",
       "      <td>54.498185</td>\n",
       "      <td>99.439462</td>\n",
       "      <td>92.019047</td>\n",
       "      <td>0.003344</td>\n",
       "      <td>98.654829</td>\n",
       "      <td>99.904137</td>\n",
       "      <td>81.307295</td>\n",
       "      <td>99.999407</td>\n",
       "      <td>100.0</td>\n",
       "      <td>327.474607</td>\n",
       "    </tr>\n",
       "    <tr>\n",
       "      <th>2</th>\n",
       "      <td>Entangled1-3d-3cl-separate_PCA_data.csv</td>\n",
       "      <td>1</td>\n",
       "      <td>1</td>\n",
       "      <td>3</td>\n",
       "      <td>5</td>\n",
       "      <td>4</td>\n",
       "      <td>1</td>\n",
       "      <td>83.612040</td>\n",
       "      <td>179.412919</td>\n",
       "      <td>85.662520</td>\n",
       "      <td>...</td>\n",
       "      <td>55.902111</td>\n",
       "      <td>99.663677</td>\n",
       "      <td>93.679104</td>\n",
       "      <td>0.003371</td>\n",
       "      <td>99.009648</td>\n",
       "      <td>99.932368</td>\n",
       "      <td>88.336925</td>\n",
       "      <td>99.999407</td>\n",
       "      <td>100.0</td>\n",
       "      <td>327.621398</td>\n",
       "    </tr>\n",
       "    <tr>\n",
       "      <th>3</th>\n",
       "      <td>Entangled1-3d-3cl-separate_RobPCA_data.csv</td>\n",
       "      <td>1</td>\n",
       "      <td>2</td>\n",
       "      <td>1</td>\n",
       "      <td>5</td>\n",
       "      <td>4</td>\n",
       "      <td>1</td>\n",
       "      <td>83.919598</td>\n",
       "      <td>181.354553</td>\n",
       "      <td>84.760740</td>\n",
       "      <td>...</td>\n",
       "      <td>57.095953</td>\n",
       "      <td>98.191443</td>\n",
       "      <td>93.611821</td>\n",
       "      <td>0.002583</td>\n",
       "      <td>99.128890</td>\n",
       "      <td>99.879285</td>\n",
       "      <td>82.383557</td>\n",
       "      <td>99.997036</td>\n",
       "      <td>100.0</td>\n",
       "      <td>324.705526</td>\n",
       "    </tr>\n",
       "    <tr>\n",
       "      <th>4</th>\n",
       "      <td>Entangled1-3d-3cl-separate_RobPCA_data.csv</td>\n",
       "      <td>1</td>\n",
       "      <td>2</td>\n",
       "      <td>2</td>\n",
       "      <td>5</td>\n",
       "      <td>4</td>\n",
       "      <td>1</td>\n",
       "      <td>81.407035</td>\n",
       "      <td>192.947084</td>\n",
       "      <td>83.722177</td>\n",
       "      <td>...</td>\n",
       "      <td>55.212948</td>\n",
       "      <td>98.654709</td>\n",
       "      <td>92.693371</td>\n",
       "      <td>0.002513</td>\n",
       "      <td>99.029505</td>\n",
       "      <td>99.894526</td>\n",
       "      <td>85.241735</td>\n",
       "      <td>99.997332</td>\n",
       "      <td>100.0</td>\n",
       "      <td>324.363518</td>\n",
       "    </tr>\n",
       "  </tbody>\n",
       "</table>\n",
       "<p>5 rows × 42 columns</p>\n",
       "</div>"
      ],
      "text/plain": [
       "                                     fileName  indexFile  indexDR  classNum  \\\n",
       "0     Entangled1-3d-3cl-separate_PCA_data.csv          1        1         1   \n",
       "1     Entangled1-3d-3cl-separate_PCA_data.csv          1        1         2   \n",
       "2     Entangled1-3d-3cl-separate_PCA_data.csv          1        1         3   \n",
       "3  Entangled1-3d-3cl-separate_RobPCA_data.csv          1        2         1   \n",
       "4  Entangled1-3d-3cl-separate_RobPCA_data.csv          1        2         2   \n",
       "\n",
       "   scoreA  scoreM  scoreDes        DSC         CAL         HM     ...      \\\n",
       "0       5       4         1  83.946488  168.392790  85.211464     ...       \n",
       "1       5       4         1  81.438127  202.032855  83.724674     ...       \n",
       "2       5       4         1  83.612040  179.412919  85.662520     ...       \n",
       "3       5       4         1  83.919598  181.354553  84.760740     ...       \n",
       "4       5       4         1  81.407035  192.947084  83.722177     ...       \n",
       "\n",
       "      DC 20%     HDM 80      DC 2%      DUNN      DC 1%    DC 0.5%      CDM 1  \\\n",
       "0  56.800376  99.775785  93.433032  0.003952  98.920474  99.934515  88.151433   \n",
       "1  54.498185  99.439462  92.019047  0.003344  98.654829  99.904137  81.307295   \n",
       "2  55.902111  99.663677  93.679104  0.003371  99.009648  99.932368  88.336925   \n",
       "3  57.095953  98.191443  93.611821  0.002583  99.128890  99.879285  82.383557   \n",
       "4  55.212948  98.654709  92.693371  0.002513  99.029505  99.894526  85.241735   \n",
       "\n",
       "      DC 0.2%  DC 0.1%        AWTN  \n",
       "0  100.000000    100.0  330.792098  \n",
       "1   99.999407    100.0  327.474607  \n",
       "2   99.999407    100.0  327.621398  \n",
       "3   99.997036    100.0  324.705526  \n",
       "4   99.997332    100.0  324.363518  \n",
       "\n",
       "[5 rows x 42 columns]"
      ]
     },
     "execution_count": 4,
     "metadata": {},
     "output_type": "execute_result"
    }
   ],
   "source": [
    "data = pd.read_csv(\"RESULTS_EUROVIS2015.csv\")\n",
    "data.head()"
   ]
  },
  {
   "cell_type": "code",
   "execution_count": 5,
   "metadata": {},
   "outputs": [
    {
     "data": {
      "text/html": [
       "<div>\n",
       "<style scoped>\n",
       "    .dataframe tbody tr th:only-of-type {\n",
       "        vertical-align: middle;\n",
       "    }\n",
       "\n",
       "    .dataframe tbody tr th {\n",
       "        vertical-align: top;\n",
       "    }\n",
       "\n",
       "    .dataframe thead th {\n",
       "        text-align: right;\n",
       "    }\n",
       "</style>\n",
       "<table border=\"1\" class=\"dataframe\">\n",
       "  <thead>\n",
       "    <tr style=\"text-align: right;\">\n",
       "      <th></th>\n",
       "      <th>DSC</th>\n",
       "      <th>CAL</th>\n",
       "      <th>HM</th>\n",
       "      <th>LDA</th>\n",
       "      <th>WII</th>\n",
       "      <th>SIL</th>\n",
       "      <th>GAM</th>\n",
       "      <th>ABW</th>\n",
       "      <th>CS</th>\n",
       "      <th>HDM 10</th>\n",
       "      <th>...</th>\n",
       "      <th>DC 20%</th>\n",
       "      <th>HDM 80</th>\n",
       "      <th>DC 2%</th>\n",
       "      <th>DUNN</th>\n",
       "      <th>DC 1%</th>\n",
       "      <th>DC 0.5%</th>\n",
       "      <th>CDM 1</th>\n",
       "      <th>DC 0.2%</th>\n",
       "      <th>DC 0.1%</th>\n",
       "      <th>AWTN</th>\n",
       "    </tr>\n",
       "  </thead>\n",
       "  <tbody>\n",
       "    <tr>\n",
       "      <th>0</th>\n",
       "      <td>83.946488</td>\n",
       "      <td>168.392790</td>\n",
       "      <td>85.211464</td>\n",
       "      <td>0.233286</td>\n",
       "      <td>0.320842</td>\n",
       "      <td>0.244208</td>\n",
       "      <td>0.320500</td>\n",
       "      <td>1.307991</td>\n",
       "      <td>0.910946</td>\n",
       "      <td>79.906761</td>\n",
       "      <td>...</td>\n",
       "      <td>56.800376</td>\n",
       "      <td>99.775785</td>\n",
       "      <td>93.433032</td>\n",
       "      <td>0.003952</td>\n",
       "      <td>98.920474</td>\n",
       "      <td>99.934515</td>\n",
       "      <td>88.151433</td>\n",
       "      <td>100.000000</td>\n",
       "      <td>100.0</td>\n",
       "      <td>330.792098</td>\n",
       "    </tr>\n",
       "    <tr>\n",
       "      <th>1</th>\n",
       "      <td>81.438127</td>\n",
       "      <td>202.032855</td>\n",
       "      <td>83.724674</td>\n",
       "      <td>0.574045</td>\n",
       "      <td>0.305026</td>\n",
       "      <td>0.249141</td>\n",
       "      <td>0.339768</td>\n",
       "      <td>1.333924</td>\n",
       "      <td>0.774196</td>\n",
       "      <td>75.904697</td>\n",
       "      <td>...</td>\n",
       "      <td>54.498185</td>\n",
       "      <td>99.439462</td>\n",
       "      <td>92.019047</td>\n",
       "      <td>0.003344</td>\n",
       "      <td>98.654829</td>\n",
       "      <td>99.904137</td>\n",
       "      <td>81.307295</td>\n",
       "      <td>99.999407</td>\n",
       "      <td>100.0</td>\n",
       "      <td>327.474607</td>\n",
       "    </tr>\n",
       "    <tr>\n",
       "      <th>2</th>\n",
       "      <td>83.612040</td>\n",
       "      <td>179.412919</td>\n",
       "      <td>85.662520</td>\n",
       "      <td>0.915691</td>\n",
       "      <td>0.313059</td>\n",
       "      <td>0.249217</td>\n",
       "      <td>0.339577</td>\n",
       "      <td>1.331933</td>\n",
       "      <td>0.904530</td>\n",
       "      <td>81.196308</td>\n",
       "      <td>...</td>\n",
       "      <td>55.902111</td>\n",
       "      <td>99.663677</td>\n",
       "      <td>93.679104</td>\n",
       "      <td>0.003371</td>\n",
       "      <td>99.009648</td>\n",
       "      <td>99.932368</td>\n",
       "      <td>88.336925</td>\n",
       "      <td>99.999407</td>\n",
       "      <td>100.0</td>\n",
       "      <td>327.621398</td>\n",
       "    </tr>\n",
       "    <tr>\n",
       "      <th>3</th>\n",
       "      <td>83.919598</td>\n",
       "      <td>181.354553</td>\n",
       "      <td>84.760740</td>\n",
       "      <td>0.095612</td>\n",
       "      <td>0.312085</td>\n",
       "      <td>0.250118</td>\n",
       "      <td>0.334770</td>\n",
       "      <td>1.324574</td>\n",
       "      <td>0.801723</td>\n",
       "      <td>77.244476</td>\n",
       "      <td>...</td>\n",
       "      <td>57.095953</td>\n",
       "      <td>98.191443</td>\n",
       "      <td>93.611821</td>\n",
       "      <td>0.002583</td>\n",
       "      <td>99.128890</td>\n",
       "      <td>99.879285</td>\n",
       "      <td>82.383557</td>\n",
       "      <td>99.997036</td>\n",
       "      <td>100.0</td>\n",
       "      <td>324.705526</td>\n",
       "    </tr>\n",
       "    <tr>\n",
       "      <th>4</th>\n",
       "      <td>81.407035</td>\n",
       "      <td>192.947084</td>\n",
       "      <td>83.722177</td>\n",
       "      <td>0.704854</td>\n",
       "      <td>0.309980</td>\n",
       "      <td>0.246604</td>\n",
       "      <td>0.332735</td>\n",
       "      <td>1.324828</td>\n",
       "      <td>0.890831</td>\n",
       "      <td>75.415086</td>\n",
       "      <td>...</td>\n",
       "      <td>55.212948</td>\n",
       "      <td>98.654709</td>\n",
       "      <td>92.693371</td>\n",
       "      <td>0.002513</td>\n",
       "      <td>99.029505</td>\n",
       "      <td>99.894526</td>\n",
       "      <td>85.241735</td>\n",
       "      <td>99.997332</td>\n",
       "      <td>100.0</td>\n",
       "      <td>324.363518</td>\n",
       "    </tr>\n",
       "  </tbody>\n",
       "</table>\n",
       "<p>5 rows × 35 columns</p>\n",
       "</div>"
      ],
      "text/plain": [
       "         DSC         CAL         HM       LDA       WII       SIL       GAM  \\\n",
       "0  83.946488  168.392790  85.211464  0.233286  0.320842  0.244208  0.320500   \n",
       "1  81.438127  202.032855  83.724674  0.574045  0.305026  0.249141  0.339768   \n",
       "2  83.612040  179.412919  85.662520  0.915691  0.313059  0.249217  0.339577   \n",
       "3  83.919598  181.354553  84.760740  0.095612  0.312085  0.250118  0.334770   \n",
       "4  81.407035  192.947084  83.722177  0.704854  0.309980  0.246604  0.332735   \n",
       "\n",
       "        ABW        CS     HDM 10     ...         DC 20%     HDM 80      DC 2%  \\\n",
       "0  1.307991  0.910946  79.906761     ...      56.800376  99.775785  93.433032   \n",
       "1  1.333924  0.774196  75.904697     ...      54.498185  99.439462  92.019047   \n",
       "2  1.331933  0.904530  81.196308     ...      55.902111  99.663677  93.679104   \n",
       "3  1.324574  0.801723  77.244476     ...      57.095953  98.191443  93.611821   \n",
       "4  1.324828  0.890831  75.415086     ...      55.212948  98.654709  92.693371   \n",
       "\n",
       "       DUNN      DC 1%    DC 0.5%      CDM 1     DC 0.2%  DC 0.1%        AWTN  \n",
       "0  0.003952  98.920474  99.934515  88.151433  100.000000    100.0  330.792098  \n",
       "1  0.003344  98.654829  99.904137  81.307295   99.999407    100.0  327.474607  \n",
       "2  0.003371  99.009648  99.932368  88.336925   99.999407    100.0  327.621398  \n",
       "3  0.002583  99.128890  99.879285  82.383557   99.997036    100.0  324.705526  \n",
       "4  0.002513  99.029505  99.894526  85.241735   99.997332    100.0  324.363518  \n",
       "\n",
       "[5 rows x 35 columns]"
      ]
     },
     "execution_count": 5,
     "metadata": {},
     "output_type": "execute_result"
    }
   ],
   "source": [
    "data = data[:-1]\n",
    "\n",
    "metrics_data = data.iloc[:,7:42]\n",
    "metrics_data.head()"
   ]
  },
  {
   "cell_type": "code",
   "execution_count": 6,
   "metadata": {},
   "outputs": [
    {
     "name": "stdout",
     "output_type": "stream",
     "text": [
      "(662, 35)\n",
      "(166, 35)\n"
     ]
    }
   ],
   "source": [
    "train_X, test_X = train_test_split(metrics_data, test_size=0.2)\n",
    "print(train_X.shape)\n",
    "print(test_X.shape)"
   ]
  },
  {
   "cell_type": "code",
   "execution_count": 7,
   "metadata": {},
   "outputs": [
    {
     "name": "stdout",
     "output_type": "stream",
     "text": [
      "(662,)\n",
      "(166,)\n"
     ]
    }
   ],
   "source": [
    "labels = data['scoreDes']\n",
    "train_y, test_y = train_test_split(labels, test_size=0.2)\n",
    "print(train_y.shape)\n",
    "print(test_y.shape)"
   ]
  },
  {
   "cell_type": "markdown",
   "metadata": {},
   "source": [
    "### Logistic Regression"
   ]
  },
  {
   "cell_type": "code",
   "execution_count": 8,
   "metadata": {},
   "outputs": [
    {
     "data": {
      "text/plain": [
       "0.5180722891566265"
      ]
     },
     "execution_count": 8,
     "metadata": {},
     "output_type": "execute_result"
    }
   ],
   "source": [
    "reg = LogisticRegression().fit(train_X, train_y)\n",
    "reg_predictions = reg.predict(test_X)\n",
    "accuracy_score(reg_predictions, test_y)"
   ]
  },
  {
   "cell_type": "markdown",
   "metadata": {},
   "source": [
    "### Neural Network"
   ]
  },
  {
   "cell_type": "code",
   "execution_count": 9,
   "metadata": {},
   "outputs": [],
   "source": [
    "network = Sequential()\n",
    "network.add(Dense(units=35, activation='relu', input_shape=(35,)))\n",
    "network.add(Dense(units=35, activation='relu'))\n",
    "network.add(Dense(units=1, activation='sigmoid'))"
   ]
  },
  {
   "cell_type": "code",
   "execution_count": 10,
   "metadata": {},
   "outputs": [],
   "source": [
    "network.compile(loss='binary_crossentropy', \n",
    "                optimizer='rmsprop', \n",
    "                metrics=['accuracy'])"
   ]
  },
  {
   "cell_type": "code",
   "execution_count": 11,
   "metadata": {},
   "outputs": [
    {
     "name": "stdout",
     "output_type": "stream",
     "text": [
      "Epoch 1/100\n",
      "662/662 [==============================] - 1s 2ms/step - loss: 8.0590 - acc: 0.5000\n",
      "Epoch 2/100\n",
      "662/662 [==============================] - 0s 35us/step - loss: 8.0590 - acc: 0.5000\n",
      "Epoch 3/100\n",
      "662/662 [==============================] - 0s 22us/step - loss: 8.0590 - acc: 0.5000\n",
      "Epoch 4/100\n",
      "662/662 [==============================] - 0s 27us/step - loss: 8.0590 - acc: 0.5000\n",
      "Epoch 5/100\n",
      "662/662 [==============================] - 0s 27us/step - loss: 8.0590 - acc: 0.5000\n",
      "Epoch 6/100\n",
      "662/662 [==============================] - 0s 21us/step - loss: 8.0590 - acc: 0.5000\n",
      "Epoch 7/100\n",
      "662/662 [==============================] - 0s 34us/step - loss: 8.0590 - acc: 0.5000\n",
      "Epoch 8/100\n",
      "662/662 [==============================] - 0s 33us/step - loss: 8.0590 - acc: 0.5000\n",
      "Epoch 9/100\n",
      "662/662 [==============================] - 0s 32us/step - loss: 8.0590 - acc: 0.5000\n",
      "Epoch 10/100\n",
      "662/662 [==============================] - 0s 38us/step - loss: 8.0590 - acc: 0.5000\n",
      "Epoch 11/100\n",
      "662/662 [==============================] - 0s 20us/step - loss: 8.0590 - acc: 0.5000\n",
      "Epoch 12/100\n",
      "662/662 [==============================] - 0s 15us/step - loss: 8.0590 - acc: 0.5000\n",
      "Epoch 13/100\n",
      "662/662 [==============================] - 0s 27us/step - loss: 8.0590 - acc: 0.5000\n",
      "Epoch 14/100\n",
      "662/662 [==============================] - 0s 16us/step - loss: 8.0590 - acc: 0.5000\n",
      "Epoch 15/100\n",
      "662/662 [==============================] - 0s 13us/step - loss: 8.0590 - acc: 0.5000\n",
      "Epoch 16/100\n",
      "662/662 [==============================] - 0s 19us/step - loss: 8.0590 - acc: 0.5000\n",
      "Epoch 17/100\n",
      "662/662 [==============================] - 0s 30us/step - loss: 8.0590 - acc: 0.5000\n",
      "Epoch 18/100\n",
      "662/662 [==============================] - 0s 14us/step - loss: 8.0590 - acc: 0.5000\n",
      "Epoch 19/100\n",
      "662/662 [==============================] - 0s 16us/step - loss: 8.0590 - acc: 0.5000\n",
      "Epoch 20/100\n",
      "662/662 [==============================] - 0s 14us/step - loss: 8.0590 - acc: 0.5000\n",
      "Epoch 21/100\n",
      "662/662 [==============================] - 0s 24us/step - loss: 8.0590 - acc: 0.5000\n",
      "Epoch 22/100\n",
      "662/662 [==============================] - 0s 16us/step - loss: 8.0590 - acc: 0.5000\n",
      "Epoch 23/100\n",
      "662/662 [==============================] - 0s 16us/step - loss: 8.0590 - acc: 0.5000\n",
      "Epoch 24/100\n",
      "662/662 [==============================] - 0s 19us/step - loss: 8.0590 - acc: 0.5000\n",
      "Epoch 25/100\n",
      "662/662 [==============================] - 0s 17us/step - loss: 8.0590 - acc: 0.5000\n",
      "Epoch 26/100\n",
      "662/662 [==============================] - 0s 17us/step - loss: 8.0590 - acc: 0.5000\n",
      "Epoch 27/100\n",
      "662/662 [==============================] - 0s 25us/step - loss: 8.0590 - acc: 0.5000\n",
      "Epoch 28/100\n",
      "662/662 [==============================] - 0s 29us/step - loss: 8.0590 - acc: 0.5000\n",
      "Epoch 29/100\n",
      "662/662 [==============================] - 0s 28us/step - loss: 8.0590 - acc: 0.5000\n",
      "Epoch 30/100\n",
      "662/662 [==============================] - 0s 31us/step - loss: 8.0590 - acc: 0.5000\n",
      "Epoch 31/100\n",
      "662/662 [==============================] - 0s 25us/step - loss: 8.0590 - acc: 0.5000\n",
      "Epoch 32/100\n",
      "662/662 [==============================] - 0s 29us/step - loss: 8.0590 - acc: 0.5000\n",
      "Epoch 33/100\n",
      "662/662 [==============================] - 0s 36us/step - loss: 8.0590 - acc: 0.5000\n",
      "Epoch 34/100\n",
      "662/662 [==============================] - 0s 25us/step - loss: 8.0590 - acc: 0.5000\n",
      "Epoch 35/100\n",
      "662/662 [==============================] - 0s 42us/step - loss: 8.0590 - acc: 0.5000\n",
      "Epoch 36/100\n",
      "662/662 [==============================] - 0s 45us/step - loss: 8.0590 - acc: 0.5000\n",
      "Epoch 37/100\n",
      "662/662 [==============================] - 0s 48us/step - loss: 8.0590 - acc: 0.5000\n",
      "Epoch 38/100\n",
      "662/662 [==============================] - 0s 24us/step - loss: 8.0590 - acc: 0.5000\n",
      "Epoch 39/100\n",
      "662/662 [==============================] - 0s 29us/step - loss: 8.0590 - acc: 0.5000\n",
      "Epoch 40/100\n",
      "662/662 [==============================] - 0s 47us/step - loss: 8.0590 - acc: 0.5000\n",
      "Epoch 41/100\n",
      "662/662 [==============================] - 0s 34us/step - loss: 8.0590 - acc: 0.5000\n",
      "Epoch 42/100\n",
      "662/662 [==============================] - 0s 31us/step - loss: 8.0590 - acc: 0.5000\n",
      "Epoch 43/100\n",
      "662/662 [==============================] - 0s 32us/step - loss: 8.0590 - acc: 0.5000\n",
      "Epoch 44/100\n",
      "662/662 [==============================] - 0s 36us/step - loss: 8.0590 - acc: 0.5000\n",
      "Epoch 45/100\n",
      "662/662 [==============================] - 0s 36us/step - loss: 8.0590 - acc: 0.5000\n",
      "Epoch 46/100\n",
      "662/662 [==============================] - 0s 27us/step - loss: 8.0590 - acc: 0.5000\n",
      "Epoch 47/100\n",
      "662/662 [==============================] - 0s 36us/step - loss: 8.0590 - acc: 0.5000\n",
      "Epoch 48/100\n",
      "662/662 [==============================] - 0s 32us/step - loss: 8.0590 - acc: 0.5000\n",
      "Epoch 49/100\n",
      "662/662 [==============================] - 0s 39us/step - loss: 8.0590 - acc: 0.5000\n",
      "Epoch 50/100\n",
      "662/662 [==============================] - 0s 32us/step - loss: 8.0590 - acc: 0.5000\n",
      "Epoch 51/100\n",
      "662/662 [==============================] - 0s 30us/step - loss: 8.0590 - acc: 0.5000\n",
      "Epoch 52/100\n",
      "662/662 [==============================] - 0s 38us/step - loss: 8.0590 - acc: 0.5000\n",
      "Epoch 53/100\n",
      "662/662 [==============================] - 0s 32us/step - loss: 8.0590 - acc: 0.5000\n",
      "Epoch 54/100\n",
      "662/662 [==============================] - 0s 27us/step - loss: 8.0590 - acc: 0.5000\n",
      "Epoch 55/100\n",
      "662/662 [==============================] - 0s 21us/step - loss: 8.0590 - acc: 0.5000\n",
      "Epoch 56/100\n",
      "662/662 [==============================] - 0s 25us/step - loss: 8.0590 - acc: 0.5000\n",
      "Epoch 57/100\n",
      "662/662 [==============================] - 0s 27us/step - loss: 8.0590 - acc: 0.5000\n",
      "Epoch 58/100\n",
      "662/662 [==============================] - 0s 23us/step - loss: 8.0590 - acc: 0.5000\n",
      "Epoch 59/100\n",
      "662/662 [==============================] - 0s 34us/step - loss: 8.0590 - acc: 0.5000\n",
      "Epoch 60/100\n",
      "662/662 [==============================] - 0s 27us/step - loss: 8.0590 - acc: 0.5000\n",
      "Epoch 61/100\n",
      "662/662 [==============================] - 0s 40us/step - loss: 8.0590 - acc: 0.5000\n",
      "Epoch 62/100\n",
      "662/662 [==============================] - 0s 28us/step - loss: 8.0590 - acc: 0.5000\n",
      "Epoch 63/100\n",
      "662/662 [==============================] - 0s 27us/step - loss: 8.0590 - acc: 0.5000\n",
      "Epoch 64/100\n",
      "662/662 [==============================] - 0s 43us/step - loss: 8.0590 - acc: 0.5000\n",
      "Epoch 65/100\n",
      "662/662 [==============================] - 0s 26us/step - loss: 8.0590 - acc: 0.5000\n",
      "Epoch 66/100\n",
      "662/662 [==============================] - 0s 33us/step - loss: 8.0590 - acc: 0.5000\n",
      "Epoch 67/100\n",
      "662/662 [==============================] - 0s 24us/step - loss: 8.0590 - acc: 0.5000\n",
      "Epoch 68/100\n",
      "662/662 [==============================] - 0s 24us/step - loss: 8.0590 - acc: 0.5000\n",
      "Epoch 69/100\n",
      "662/662 [==============================] - 0s 15us/step - loss: 8.0590 - acc: 0.5000\n",
      "Epoch 70/100\n",
      "662/662 [==============================] - 0s 29us/step - loss: 8.0590 - acc: 0.5000\n",
      "Epoch 71/100\n",
      "662/662 [==============================] - 0s 29us/step - loss: 8.0590 - acc: 0.5000\n",
      "Epoch 72/100\n",
      "662/662 [==============================] - 0s 34us/step - loss: 8.0590 - acc: 0.5000\n",
      "Epoch 73/100\n",
      "662/662 [==============================] - 0s 27us/step - loss: 8.0590 - acc: 0.5000\n",
      "Epoch 74/100\n",
      "662/662 [==============================] - 0s 26us/step - loss: 8.0590 - acc: 0.5000\n",
      "Epoch 75/100\n",
      "662/662 [==============================] - 0s 28us/step - loss: 8.0590 - acc: 0.5000\n",
      "Epoch 76/100\n",
      "662/662 [==============================] - 0s 34us/step - loss: 8.0590 - acc: 0.5000\n",
      "Epoch 77/100\n",
      "662/662 [==============================] - 0s 27us/step - loss: 8.0590 - acc: 0.5000\n",
      "Epoch 78/100\n",
      "662/662 [==============================] - 0s 49us/step - loss: 8.0590 - acc: 0.5000\n",
      "Epoch 79/100\n",
      "662/662 [==============================] - 0s 38us/step - loss: 8.0590 - acc: 0.5000\n",
      "Epoch 80/100\n",
      "662/662 [==============================] - 0s 30us/step - loss: 8.0590 - acc: 0.5000\n",
      "Epoch 81/100\n",
      "662/662 [==============================] - 0s 33us/step - loss: 8.0590 - acc: 0.5000\n",
      "Epoch 82/100\n",
      "662/662 [==============================] - 0s 34us/step - loss: 8.0590 - acc: 0.5000\n",
      "Epoch 83/100\n",
      "662/662 [==============================] - 0s 49us/step - loss: 8.0590 - acc: 0.5000\n",
      "Epoch 84/100\n"
     ]
    },
    {
     "name": "stdout",
     "output_type": "stream",
     "text": [
      "662/662 [==============================] - 0s 38us/step - loss: 8.0590 - acc: 0.5000\n",
      "Epoch 85/100\n",
      "662/662 [==============================] - 0s 26us/step - loss: 8.0590 - acc: 0.5000\n",
      "Epoch 86/100\n",
      "662/662 [==============================] - 0s 34us/step - loss: 8.0590 - acc: 0.5000\n",
      "Epoch 87/100\n",
      "662/662 [==============================] - 0s 29us/step - loss: 8.0590 - acc: 0.5000\n",
      "Epoch 88/100\n",
      "662/662 [==============================] - 0s 26us/step - loss: 8.0590 - acc: 0.5000\n",
      "Epoch 89/100\n",
      "662/662 [==============================] - 0s 27us/step - loss: 8.0590 - acc: 0.5000\n",
      "Epoch 90/100\n",
      "662/662 [==============================] - 0s 19us/step - loss: 8.0590 - acc: 0.5000\n",
      "Epoch 91/100\n",
      "662/662 [==============================] - 0s 25us/step - loss: 8.0590 - acc: 0.5000\n",
      "Epoch 92/100\n",
      "662/662 [==============================] - 0s 22us/step - loss: 8.0590 - acc: 0.5000\n",
      "Epoch 93/100\n",
      "662/662 [==============================] - 0s 22us/step - loss: 8.0590 - acc: 0.5000\n",
      "Epoch 94/100\n",
      "662/662 [==============================] - 0s 20us/step - loss: 8.0590 - acc: 0.5000\n",
      "Epoch 95/100\n",
      "662/662 [==============================] - 0s 22us/step - loss: 8.0590 - acc: 0.5000\n",
      "Epoch 96/100\n",
      "662/662 [==============================] - 0s 24us/step - loss: 8.0590 - acc: 0.5000\n",
      "Epoch 97/100\n",
      "662/662 [==============================] - 0s 33us/step - loss: 8.0590 - acc: 0.5000\n",
      "Epoch 98/100\n",
      "662/662 [==============================] - 0s 24us/step - loss: 8.0590 - acc: 0.5000\n",
      "Epoch 99/100\n",
      "662/662 [==============================] - 0s 24us/step - loss: 8.0590 - acc: 0.5000\n",
      "Epoch 100/100\n",
      "662/662 [==============================] - 0s 23us/step - loss: 8.0590 - acc: 0.5000\n"
     ]
    }
   ],
   "source": [
    "history = network.fit(train_X,\n",
    "                      train_y,\n",
    "                      epochs=100,\n",
    "                      verbose=1,\n",
    "                      batch_size=100)"
   ]
  },
  {
   "cell_type": "code",
   "execution_count": 12,
   "metadata": {},
   "outputs": [
    {
     "data": {
      "text/plain": [
       "0.463855421686747"
      ]
     },
     "execution_count": 12,
     "metadata": {},
     "output_type": "execute_result"
    }
   ],
   "source": [
    "nn_predictions = network.predict(test_X)\n",
    "nn_predictions = (nn_predictions > 0.5)\n",
    "accuracy_score(nn_predictions, test_y)"
   ]
  },
  {
   "cell_type": "markdown",
   "metadata": {},
   "source": [
    "### Support Vector Regression"
   ]
  },
  {
   "cell_type": "code",
   "execution_count": 13,
   "metadata": {},
   "outputs": [
    {
     "data": {
      "text/plain": [
       "0.5120481927710844"
      ]
     },
     "execution_count": 13,
     "metadata": {},
     "output_type": "execute_result"
    }
   ],
   "source": [
    "svr = SVR(gamma=0.001, C=1.0, epsilon=0.2)\n",
    "svr.fit(train_X, train_y)\n",
    "svr_predictions = svr.predict(test_X)\n",
    "svr_predictions = (svr_predictions > 0.5)\n",
    "accuracy_score(svr_predictions, test_y)"
   ]
  },
  {
   "cell_type": "markdown",
   "metadata": {},
   "source": [
    "### PCA"
   ]
  },
  {
   "cell_type": "code",
   "execution_count": 17,
   "metadata": {},
   "outputs": [
    {
     "data": {
      "text/plain": [
       "PCA(copy=True, iterated_power='auto', n_components=None, random_state=None,\n",
       "  svd_solver='auto', tol=0.0, whiten=False)"
      ]
     },
     "execution_count": 17,
     "metadata": {},
     "output_type": "execute_result"
    }
   ],
   "source": [
    "pca = PCA()\n",
    "pca.fit(metrics_data)"
   ]
  },
  {
   "cell_type": "code",
   "execution_count": 22,
   "metadata": {},
   "outputs": [
    {
     "data": {
      "text/plain": [
       "Index(['DSC', 'CAL', 'HM', 'LDA', 'WII', 'SIL', 'GAM', 'ABW', 'CS', 'HDM 10',\n",
       "       'ABTN', 'HDM 5', 'CDM 4', 'CDM 3', 'DC 10%', 'CDM 5', 'CDM 2', 'CDM 6',\n",
       "       'CDM 7', 'DC 5%', 'CDM 8', 'CDM 10', 'CDM 9', 'HDM 20', 'HDM 40',\n",
       "       'DC 20%', 'HDM 80', 'DC 2%', 'DUNN', 'DC 1%', 'DC 0.5%', 'CDM 1',\n",
       "       'DC 0.2%', 'DC 0.1%', 'AWTN'],\n",
       "      dtype='object')"
      ]
     },
     "execution_count": 22,
     "metadata": {},
     "output_type": "execute_result"
    }
   ],
   "source": [
    "metrics_data.columns"
   ]
  },
  {
   "cell_type": "code",
   "execution_count": 44,
   "metadata": {},
   "outputs": [
    {
     "data": {
      "text/plain": [
       "Text(0.5,1,'PCA Scree Plot')"
      ]
     },
     "execution_count": 44,
     "metadata": {},
     "output_type": "execute_result"
    },
    {
     "data": {
      "image/png": "[encoded data removed]",
      "text/plain": [
       "<Figure size 720x360 with 1 Axes>"
      ]
     },
     "metadata": {},
     "output_type": "display_data"
    }
   ],
   "source": [
    "plt.figure(figsize=(10, 5))\n",
    "plt.bar(np.arange(0,35), pca.explained_variance_ratio_, color='steelblue')\n",
    "plt.plot(np.cumsum(pca.explained_variance_ratio_), color='#FF0000', marker=\"o\")\n",
    "plt.xticks(np.arange(0,35))\n",
    "plt.xlabel(\"Principal Components\")\n",
    "plt.ylabel(\"Explained Variance Ratio\")\n",
    "# plt.plot([0, 0], [1, 1], color='#FF0000', linestyle='-', linewidth=2)\n",
    "plt.axvline(3, linewidth=1, color='#000000')\n",
    "plt.axhline(np.cumsum(pca.explained_variance_ratio_)[3], linewidth=1, color='#000000')\n",
    "\n",
    "plt.title(\"PCA Scree Plot\")"
   ]
  },
  {
   "cell_type": "code",
   "execution_count": 51,
   "metadata": {},
   "outputs": [],
   "source": [
    "biplot_points = pca.transform(metrics_data)[:,:2]"
   ]
  },
  {
   "cell_type": "code",
   "execution_count": 80,
   "metadata": {},
   "outputs": [
    {
     "data": {
      "text/plain": [
       "Text(0,0.5,'PC 2')"
      ]
     },
     "execution_count": 80,
     "metadata": {},
     "output_type": "execute_result"
    },
    {
     "data": {
      "image/png": "[encoded data removed]",
      "text/plain": [
       "<Figure size 432x288 with 1 Axes>"
      ]
     },
     "metadata": {},
     "output_type": "display_data"
    }
   ],
   "source": [
    "plt.scatter(biplot_points[:,0], biplot_points[:,1])\n",
    "plt.xlabel(\"PC 1\")\n",
    "plt.ylabel(\"PC 2\")"
   ]
  },
  {
   "cell_type": "markdown",
   "metadata": {},
   "source": [
    "### Calculating Loadings"
   ]
  },
  {
   "cell_type": "code",
   "execution_count": 55,
   "metadata": {},
   "outputs": [
    {
     "data": {
      "text/plain": [
       "array([7.28306326e-02, 9.44601052e-01, 3.70362278e-02, 5.98184746e-03,\n",
       "       1.05966941e-03, 1.03211626e-03, 1.44939141e-03, 2.09253384e-03,\n",
       "       2.42780935e-04, 5.56372933e-02, 8.29228212e-01, 5.84764468e-02,\n",
       "       5.08533204e-02, 4.95604410e-02, 5.63630719e-02, 4.89035235e-02,\n",
       "       4.85308200e-02, 4.78890861e-02, 4.65035437e-02, 4.29027316e-02,\n",
       "       4.46413574e-02, 4.38917396e-02, 4.41995797e-02, 4.77768906e-02,\n",
       "       3.03189091e-02, 4.96537477e-02, 1.50234283e-02, 1.77774880e-02,\n",
       "       2.06246393e-04, 4.55158830e-03, 7.55379514e-04, 1.95096281e-02,\n",
       "       6.60374386e-05, 1.58000624e-05, 6.12476489e-01])"
      ]
     },
     "execution_count": 55,
     "metadata": {},
     "output_type": "execute_result"
    }
   ],
   "source": [
    "squared_loadings = np.sqrt(np.add(np.square(pca.components_[0]), np.square(pca.components_[1])))\n",
    "squared_loadings"
   ]
  },
  {
   "cell_type": "code",
   "execution_count": 59,
   "metadata": {},
   "outputs": [],
   "source": [
    "loadings = pd.DataFrame(np.append(np.array(metrics_data.columns).reshape(35,1), squared_loadings.reshape(35,1), axis=1), columns=[\"Attribute names\",\"Squared PCA loadings\"])"
   ]
  },
  {
   "cell_type": "code",
   "execution_count": 70,
   "metadata": {
    "scrolled": true
   },
   "outputs": [
    {
     "data": {
      "text/html": [
       "<div>\n",
       "<style scoped>\n",
       "    .dataframe tbody tr th:only-of-type {\n",
       "        vertical-align: middle;\n",
       "    }\n",
       "\n",
       "    .dataframe tbody tr th {\n",
       "        vertical-align: top;\n",
       "    }\n",
       "\n",
       "    .dataframe thead th {\n",
       "        text-align: right;\n",
       "    }\n",
       "</style>\n",
       "<table border=\"1\" class=\"dataframe\">\n",
       "  <thead>\n",
       "    <tr style=\"text-align: right;\">\n",
       "      <th></th>\n",
       "      <th>Attribute names</th>\n",
       "      <th>Squared PCA loadings</th>\n",
       "    </tr>\n",
       "  </thead>\n",
       "  <tbody>\n",
       "    <tr>\n",
       "      <th>1</th>\n",
       "      <td>CAL</td>\n",
       "      <td>0.944601</td>\n",
       "    </tr>\n",
       "    <tr>\n",
       "      <th>10</th>\n",
       "      <td>ABTN</td>\n",
       "      <td>0.829228</td>\n",
       "    </tr>\n",
       "    <tr>\n",
       "      <th>34</th>\n",
       "      <td>AWTN</td>\n",
       "      <td>0.612476</td>\n",
       "    </tr>\n",
       "    <tr>\n",
       "      <th>0</th>\n",
       "      <td>DSC</td>\n",
       "      <td>0.0728306</td>\n",
       "    </tr>\n",
       "    <tr>\n",
       "      <th>11</th>\n",
       "      <td>HDM 5</td>\n",
       "      <td>0.0584764</td>\n",
       "    </tr>\n",
       "    <tr>\n",
       "      <th>14</th>\n",
       "      <td>DC 10%</td>\n",
       "      <td>0.0563631</td>\n",
       "    </tr>\n",
       "    <tr>\n",
       "      <th>9</th>\n",
       "      <td>HDM 10</td>\n",
       "      <td>0.0556373</td>\n",
       "    </tr>\n",
       "    <tr>\n",
       "      <th>12</th>\n",
       "      <td>CDM 4</td>\n",
       "      <td>0.0508533</td>\n",
       "    </tr>\n",
       "    <tr>\n",
       "      <th>25</th>\n",
       "      <td>DC 20%</td>\n",
       "      <td>0.0496537</td>\n",
       "    </tr>\n",
       "    <tr>\n",
       "      <th>13</th>\n",
       "      <td>CDM 3</td>\n",
       "      <td>0.0495604</td>\n",
       "    </tr>\n",
       "  </tbody>\n",
       "</table>\n",
       "</div>"
      ],
      "text/plain": [
       "   Attribute names Squared PCA loadings\n",
       "1              CAL             0.944601\n",
       "10            ABTN             0.829228\n",
       "34            AWTN             0.612476\n",
       "0              DSC            0.0728306\n",
       "11           HDM 5            0.0584764\n",
       "14          DC 10%            0.0563631\n",
       "9           HDM 10            0.0556373\n",
       "12           CDM 4            0.0508533\n",
       "25          DC 20%            0.0496537\n",
       "13           CDM 3            0.0495604"
      ]
     },
     "execution_count": 70,
     "metadata": {},
     "output_type": "execute_result"
    }
   ],
   "source": [
    "loadings.sort_values(by=\"Squared PCA loadings\", ascending=False).head(n=10)"
   ]
  },
  {
   "cell_type": "code",
   "execution_count": 71,
   "metadata": {},
   "outputs": [
    {
     "data": {
      "text/plain": [
       "Index(['DSC', 'CAL', 'HM', 'LDA', 'WII', 'SIL', 'GAM', 'ABW', 'CS', 'HDM 10',\n",
       "       'ABTN', 'HDM 5', 'CDM 4', 'CDM 3', 'DC 10%', 'CDM 5', 'CDM 2', 'CDM 6',\n",
       "       'CDM 7', 'DC 5%', 'CDM 8', 'CDM 10', 'CDM 9', 'HDM 20', 'HDM 40',\n",
       "       'DC 20%', 'HDM 80', 'DC 2%', 'DUNN', 'DC 1%', 'DC 0.5%', 'CDM 1',\n",
       "       'DC 0.2%', 'DC 0.1%', 'AWTN'],\n",
       "      dtype='object')"
      ]
     },
     "execution_count": 71,
     "metadata": {},
     "output_type": "execute_result"
    }
   ],
   "source": [
    "metrics_data.columns"
   ]
  },
  {
   "cell_type": "code",
   "execution_count": 73,
   "metadata": {},
   "outputs": [
    {
     "data": {
      "text/plain": [
       "DSC        0\n",
       "CAL        0\n",
       "HM         0\n",
       "LDA        0\n",
       "WII        0\n",
       "SIL        0\n",
       "GAM        0\n",
       "ABW        0\n",
       "CS         0\n",
       "HDM 10     0\n",
       "ABTN       0\n",
       "HDM 5      0\n",
       "CDM 4      0\n",
       "CDM 3      0\n",
       "DC 10%     0\n",
       "CDM 5      0\n",
       "CDM 2      0\n",
       "CDM 6      0\n",
       "CDM 7      0\n",
       "DC 5%      0\n",
       "CDM 8      0\n",
       "CDM 10     0\n",
       "CDM 9      0\n",
       "HDM 20     0\n",
       "HDM 40     0\n",
       "DC 20%     0\n",
       "HDM 80     0\n",
       "DC 2%      0\n",
       "DUNN       0\n",
       "DC 1%      0\n",
       "DC 0.5%    0\n",
       "CDM 1      0\n",
       "DC 0.2%    0\n",
       "DC 0.1%    0\n",
       "AWTN       0\n",
       "dtype: int64"
      ]
     },
     "execution_count": 73,
     "metadata": {},
     "output_type": "execute_result"
    }
   ],
   "source": [
    "metrics_data.isna().sum()"
   ]
  },
  {
   "cell_type": "code",
   "execution_count": 76,
   "metadata": {},
   "outputs": [
    {
     "data": {
      "text/plain": [
       "MDS(dissimilarity='euclidean', eps=0.001, max_iter=300, metric=True,\n",
       "  n_components=2, n_init=4, n_jobs=1, random_state=None, verbose=0)"
      ]
     },
     "execution_count": 76,
     "metadata": {},
     "output_type": "execute_result"
    }
   ],
   "source": [
    "mds = MDS()\n",
    "mds.fit(metrics_data)"
   ]
  },
  {
   "cell_type": "code",
   "execution_count": 79,
   "metadata": {},
   "outputs": [
    {
     "data": {
      "text/plain": [
       "<matplotlib.collections.PathCollection at 0x7f0e4644fc18>"
      ]
     },
     "execution_count": 79,
     "metadata": {},
     "output_type": "execute_result"
    },
    {
     "data": {
      "image/png": "[encoded data removed]",
      "text/plain": [
       "<Figure size 432x288 with 1 Axes>"
      ]
     },
     "metadata": {},
     "output_type": "display_data"
    }
   ],
   "source": [
    "plt.figure(figsize=())\n",
    "plt.scatter(mds.embedding_[:,0], mds.embedding_[:,1])"
   ]
  },
  {
   "cell_type": "code",
   "execution_count": null,
   "metadata": {},
   "outputs": [],
   "source": []
  }
 ],
 "metadata": {
  "kernelspec": {
   "display_name": "Python 3",
   "language": "python",
   "name": "python3"
  },
  "language_info": {
   "codemirror_mode": {
    "name": "ipython",
    "version": 3
   },
   "file_extension": ".py",
   "mimetype": "text/x-python",
   "name": "python",
   "nbconvert_exporter": "python",
   "pygments_lexer": "ipython3",
   "version": "3.6.5"
  }
 },
 "nbformat": 4,
 "nbformat_minor": 2
}
